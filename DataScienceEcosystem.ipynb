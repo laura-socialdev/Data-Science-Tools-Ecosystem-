{
 "cells": [
  {
   "cell_type": "markdown",
   "id": "60360397-8295-47e8-85af-2e529283d2a9",
   "metadata": {},
   "source": [
    "# Data Science Tools and Ecosystem"
   ]
  },
  {
   "cell_type": "markdown",
   "id": "7277dbda-b379-40a9-b0eb-309fb86ec75a",
   "metadata": {},
   "source": [
    "## Author\n",
    "Laura Wallis"
   ]
  },
  {
   "cell_type": "markdown",
   "id": "1ecc7ddb-1fc8-4bb9-955d-4b77df1cd2dc",
   "metadata": {},
   "source": [
    "In this notebook, Data Science Tools and Ecosystem are summarised."
   ]
  },
  {
   "cell_type": "markdown",
   "id": "b10b02fc-5e87-4a5a-bfc3-c6250484a81d",
   "metadata": {},
   "source": [
    "__Objectives:__\n",
    "\n",
    "* List popular languages for Data Science\n",
    "* List libraries commonly used in Data Science\n",
    "* Insert a table in Jupyter notebook\n",
    "* Write arithmetic expressions in Jupyter notebook"
   ]
  },
  {
   "cell_type": "markdown",
   "id": "74df9daf-a0fa-4ab2-8194-25d1a82d87b7",
   "metadata": {},
   "source": [
    "Some of the popular languages that Data Scientists use are:\n",
    "\n",
    "1. Python\n",
    "2. R\n",
    "3. Julia\n",
    "4. Scala"
   ]
  },
  {
   "cell_type": "markdown",
   "id": "86188374-acbc-4390-a690-ddd3082db239",
   "metadata": {},
   "source": [
    "Some of the commonly used libraries used by Data Scientists include:\n",
    "\n",
    "1. TensorFlow\n",
    "2. NumPy\n",
    "3. SciPy\n",
    "4. Pandas"
   ]
  },
  {
   "cell_type": "code",
   "execution_count": 1,
   "id": "64d3624d-da4d-48c3-a5f5-00f037aa1e55",
   "metadata": {},
   "outputs": [
    {
     "name": "stdout",
     "output_type": "stream",
     "text": [
      "Collecting tabulate\n",
      "  Using cached tabulate-0.9.0-py3-none-any.whl (35 kB)\n",
      "Installing collected packages: tabulate\n",
      "Successfully installed tabulate-0.9.0\n",
      "Note: you may need to restart the kernel to use updated packages.\n"
     ]
    }
   ],
   "source": [
    "pip install tabulate"
   ]
  },
  {
   "cell_type": "code",
   "execution_count": 3,
   "id": "0173f319-4722-4071-a043-b4aa950dcf05",
   "metadata": {},
   "outputs": [],
   "source": [
    "from tabulate import tabulate"
   ]
  },
  {
   "cell_type": "code",
   "execution_count": 11,
   "id": "8e776429-da3e-4e81-b998-dadf69f8d317",
   "metadata": {},
   "outputs": [],
   "source": [
    "table = [['Data Science Tools'], \n",
    "         ['Apache Hadoop'], \n",
    "         ['R Studio'], \n",
    "         ['TensorFlow']]"
   ]
  },
  {
   "cell_type": "code",
   "execution_count": 12,
   "id": "1fa5fe3b-1bdf-448f-bb88-838dfc2bb6fe",
   "metadata": {},
   "outputs": [
    {
     "name": "stdout",
     "output_type": "stream",
     "text": [
      "Data Science Tools\n",
      "--------------------\n",
      "Apache Hadoop\n",
      "R Studio\n",
      "TensorFlow\n"
     ]
    }
   ],
   "source": [
    "print(tabulate(table, headers='firstrow'))"
   ]
  },
  {
   "cell_type": "markdown",
   "id": "54edb5e3-bb7b-4002-860e-0261887c3622",
   "metadata": {},
   "source": [
    "### Below are a few examples of evaluating arithmetic expressions in Python"
   ]
  },
  {
   "cell_type": "code",
   "execution_count": 13,
   "id": "1793342e-d896-4b14-a6d1-60dc71953dd0",
   "metadata": {},
   "outputs": [
    {
     "data": {
      "text/plain": [
       "17"
      ]
     },
     "execution_count": 13,
     "metadata": {},
     "output_type": "execute_result"
    }
   ],
   "source": [
    "(3*4)+5"
   ]
  },
  {
   "cell_type": "markdown",
   "id": "1dfd0163-841f-452e-be53-b0af834e17fd",
   "metadata": {},
   "source": [
    "This a simple arithmetic expression to mutiply then add integers"
   ]
  },
  {
   "cell_type": "code",
   "execution_count": 19,
   "id": "876d6b55-1f7b-468b-9325-f3cc75f67870",
   "metadata": {},
   "outputs": [
    {
     "name": "stdout",
     "output_type": "stream",
     "text": [
      "3\n"
     ]
    }
   ],
   "source": [
    "minutes = 200\n",
    "\n",
    "hour = minutes // 60\n",
    "\n",
    "print(\"%d\" % (hour))"
   ]
  },
  {
   "cell_type": "markdown",
   "id": "5305c6a6-6ce6-49f1-8e1b-8c19df5d2f5b",
   "metadata": {},
   "source": [
    "This will convert 200 minutes to hours by diving by 60."
   ]
  },
  {
   "cell_type": "code",
   "execution_count": null,
   "id": "9442574b-f8b8-4eb9-a0ed-364b12bc4387",
   "metadata": {},
   "outputs": [],
   "source": []
  }
 ],
 "metadata": {
  "kernelspec": {
   "display_name": "Python",
   "language": "python",
   "name": "conda-env-python-py"
  },
  "language_info": {
   "codemirror_mode": {
    "name": "ipython",
    "version": 3
   },
   "file_extension": ".py",
   "mimetype": "text/x-python",
   "name": "python",
   "nbconvert_exporter": "python",
   "pygments_lexer": "ipython3",
   "version": "3.7.12"
  }
 },
 "nbformat": 4,
 "nbformat_minor": 5
}
